{
 "cells": [
  {
   "cell_type": "markdown",
   "metadata": {},
   "source": [
    "This example was adapted from skaae's Lasagne [recipe](https://github.com/skaae/Recipes/blob/spatial_transform/examples/spatial_transformer_network.ipynb).  \n",
    "You can download skaae's Cluttered MNIST dataset [here](https://s3.amazonaws.com/lasagne/recipes/datasets/mnist_cluttered_60x60_6distortions.npz).\n",
    "\n",
    "Reference at [arXiv](http://arxiv.org/abs/1506.02025)"
   ]
  },
  {
   "cell_type": "code",
   "execution_count": 41,
   "metadata": {
    "collapsed": false
   },
   "outputs": [],
   "source": [
    "%matplotlib inline\n",
    "from __future__ import absolute_import\n",
    "from __future__ import print_function\n",
    "import numpy as np\n",
    "import matplotlib.pyplot as plt\n",
    "import theano\n",
    "np.random.seed(1337)  # for reproducibility\n",
    "\n",
    "from scipy.misc import imresize\n",
    "\n",
    "from keras.datasets import mnist\n",
    "from keras.models import Sequential, Model\n",
    "from keras.layers.core import Dense, Dropout, Activation, Flatten\n",
    "from keras.layers.convolutional import Convolution2D, MaxPooling2D\n",
    "from keras.utils import np_utils\n",
    "from keras.utils import np_utils, generic_utils\n",
    "from keras.optimizers import Adam, SGD\n",
    "from keras.layers import Input\n",
    "import keras.backend as K\n",
    "\n",
    "from seya.layers.attention import SpatialTransformer#, ST2\n",
    "\n",
    "batch_size = 128\n",
    "nb_classes = 10\n",
    "nb_epoch = 12\n",
    "\n",
    "DIM = 60\n",
    "mnist_cluttered = \"../../cluttered_saccades/mnist_cluttered_60x60_6distortions.npz\""
   ]
  },
  {
   "cell_type": "code",
   "execution_count": 42,
   "metadata": {
    "collapsed": false
   },
   "outputs": [
    {
     "name": "stdout",
     "output_type": "stream",
     "text": [
      "Train samples: (50000, 1, 60, 60)\n",
      "Validation samples: (10000, 1, 60, 60)\n",
      "Test samples: (10000, 1, 60, 60)\n"
     ]
    }
   ],
   "source": [
    "data = np.load(mnist_cluttered)\n",
    "X_train, y_train = data['x_train'], np.argmax(data['y_train'], axis=-1)\n",
    "X_valid, y_valid = data['x_valid'], np.argmax(data['y_valid'], axis=-1)\n",
    "X_test, y_test = data['x_test'], np.argmax(data['y_test'], axis=-1)\n",
    "# reshape for convolutions\n",
    "X_train = X_train.reshape((X_train.shape[0], 1, DIM, DIM))\n",
    "X_valid = X_valid.reshape((X_valid.shape[0], 1, DIM, DIM))\n",
    "X_test = X_test.reshape((X_test.shape[0], 1, DIM, DIM))\n",
    "\n",
    "y_train = np_utils.to_categorical(y_train, nb_classes)\n",
    "y_valid = np_utils.to_categorical(y_valid, nb_classes)\n",
    "y_test = np_utils.to_categorical(y_test, nb_classes)\n",
    "\n",
    "print(\"Train samples: {}\".format(X_train.shape))\n",
    "print(\"Validation samples: {}\".format(X_valid.shape))\n",
    "print(\"Test samples: {}\".format(X_test.shape))\n",
    "\n",
    "input_shape = X_train.shape[1:]"
   ]
  },
  {
   "cell_type": "code",
   "execution_count": 43,
   "metadata": {
    "collapsed": false
   },
   "outputs": [
    {
     "data": {
      "image/png": "[encoded data removed]",
      "text/plain": [
       "<matplotlib.figure.Figure at 0x7f08eca25950>"
      ]
     },
     "metadata": {},
     "output_type": "display_data"
    }
   ],
   "source": [
    "plt.figure(figsize=(7,7))\n",
    "plt.imshow(X_train[101].reshape(DIM, DIM), cmap='gray', interpolation='none')\n",
    "plt.title('Cluttered MNIST', fontsize=20)\n",
    "plt.axis('off')\n",
    "plt.show()"
   ]
  },
  {
   "cell_type": "code",
   "execution_count": 44,
   "metadata": {
    "collapsed": false
   },
   "outputs": [],
   "source": [
    "# initial weights\n",
    "b = np.zeros((2, 3), dtype='float32')\n",
    "b[0, 0] = 1\n",
    "b[1, 1] = 1\n",
    "W = np.zeros((50, 6), dtype='float32')\n",
    "weights = [W, b.flatten()]"
   ]
  },
  {
   "cell_type": "code",
   "execution_count": 45,
   "metadata": {
    "collapsed": false
   },
   "outputs": [],
   "source": [
    "locnet = Sequential()\n",
    "locnet.add(MaxPooling2D(pool_size=(2,2), input_shape=input_shape))\n",
    "locnet.add(Convolution2D(20, 5, 5))\n",
    "locnet.add(MaxPooling2D(pool_size=(2,2)))\n",
    "locnet.add(Convolution2D(20, 5, 5))\n",
    "\n",
    "locnet.add(Flatten())\n",
    "locnet.add(Dense(50))\n",
    "locnet.add(Dropout(.001))\n",
    "locnet.add(Activation('relu'))\n",
    "locnet.add(Dense(6, weights=weights))\n",
    "#locnet.add(Activation('sigmoid'))"
   ]
  },
  {
   "cell_type": "code",
   "execution_count": 46,
   "metadata": {
    "collapsed": false
   },
   "outputs": [],
   "source": [
    "model = Sequential()\n",
    "\n",
    "model.add(SpatialTransformer(localization_net=locnet,\n",
    "                             downsample_factor=3, input_shape=input_shape))\n",
    "\n",
    "model.add(Convolution2D(32, 3, 3, border_mode='same', input_shape= input_shape))\n",
    "model.add(Activation('relu'))\n",
    "model.add(MaxPooling2D(pool_size=(2, 2)))\n",
    "model.add(Convolution2D(32, 3, 3))\n",
    "model.add(Activation('relu'))\n",
    "model.add(MaxPooling2D(pool_size=(2, 2)))\n",
    "\n",
    "model.add(Flatten())\n",
    "model.add(Dense(256))\n",
    "model.add(Dropout(.001))  # Added Dropout here to fix error\n",
    "model.add(Activation('relu'))\n",
    "\n",
    "model.add(Dense(nb_classes))\n",
    "model.add(Activation('softmax'))\n",
    "\n",
    "model.compile(loss='categorical_crossentropy', optimizer='adam', metrics=['accuracy'])"
   ]
  },
  {
   "cell_type": "code",
   "execution_count": 47,
   "metadata": {
    "collapsed": false
   },
   "outputs": [],
   "source": [
    "#XX = model.input\n",
    "#YY = model.layers[0].output\n",
    "#F = K.function([XX], YY)"
   ]
  },
  {
   "cell_type": "code",
   "execution_count": 48,
   "metadata": {
    "collapsed": false
   },
   "outputs": [
    {
     "name": "stdout",
     "output_type": "stream",
     "text": [
      "----------------------------------------\n",
      "Epoch: 0 | Valid: 0.5534 | Test: 0.5534\n",
      "----------------------------------------\n",
      "Epoch: 1 | Valid: 0.7825 | Test: 0.7803\n",
      "----------------------------------------\n",
      "Epoch: 2 | Valid: 0.8368 | Test: 0.8419\n",
      "----------------------------------------\n",
      "Epoch: 3 | Valid: 0.8328 | Test: 0.838\n",
      "----------------------------------------\n",
      "Epoch: 4 | Valid: 0.8767 | Test: 0.8783\n",
      "----------------------------------------\n",
      "Epoch: 5 | Valid: 0.8806 | Test: 0.8778\n",
      "----------------------------------------\n",
      "Epoch: 6 | Valid: 0.8953 | Test: 0.8981\n",
      "----------------------------------------\n",
      "Epoch: 7 | Valid: 0.8997 | Test: 0.9003\n",
      "----------------------------------------\n",
      "Epoch: 8 | Valid: 0.9141 | Test: 0.914\n",
      "----------------------------------------\n",
      "Epoch: 9 | Valid: 0.908 | Test: 0.907\n"
     ]
    },
    {
     "data": {
      "text/plain": [
       "<matplotlib.figure.Figure at 0x7f090c35f610>"
      ]
     },
     "metadata": {},
     "output_type": "display_data"
    }
   ],
   "source": [
    "nb_epochs = 10 # you probably want to go longer than this\n",
    "batch_size = 256\n",
    "fig = plt.figure()\n",
    "try:\n",
    "    for e in range(nb_epochs):\n",
    "        print('-'*40)\n",
    "        #progbar = generic_utils.Progbar(X_train.shape[0])\n",
    "        for b in range(X_train.shape[0]/batch_size):\n",
    "            f = b * batch_size\n",
    "            l = (b+1) * batch_size\n",
    "            X_batch = X_train[f:l].astype('float32')\n",
    "            y_batch = y_train[f:l].astype('float32')\n",
    "            loss = model.train_on_batch(X_batch, y_batch)\n",
    "            #progbar.add(X_batch.shape[0], values=[(\"train loss\", loss)])\n",
    "        scorev = model.evaluate(X_valid, y_valid, verbose=0)[1]\n",
    "        scoret = model.evaluate(X_test, y_test, verbose=0)[1]\n",
    "        print('Epoch: {0} | Valid: {1} | Test: {2}'.format(e, scorev, scoret))\n",
    "\n",
    "#        if e % 5 == 0:\n",
    "#            Xresult = F(X_batch[:9])\n",
    "#            plt.clf()\n",
    "#            for i in range(9):\n",
    "#                plt.subplot(3, 3, i+1)\n",
    "#                plt.imshow(Xresult[i, 0], cmap='gray')\n",
    "#                plt.axis('off')\n",
    "#            fig.canvas.draw()\n",
    "#            plt.show()\n",
    "except KeyboardInterrupt:\n",
    "    pass"
   ]
  },
  {
   "cell_type": "markdown",
   "metadata": {},
   "source": [
    "### Visualizing what the Spatial Transformer learned"
   ]
  },
  {
   "cell_type": "code",
   "execution_count": 10,
   "metadata": {
    "collapsed": false
   },
   "outputs": [],
   "source": [
    "Xaug = X_train[:9]\n",
    "Xresult = F(Xaug.astype('float32'))"
   ]
  },
  {
   "cell_type": "code",
   "execution_count": 11,
   "metadata": {
    "collapsed": false
   },
   "outputs": [
    {
     "data": {
      "image/png": "[encoded data removed]",
      "text/plain": [
       "<matplotlib.figure.Figure at 0x7f69cefe4590>"
      ]
     },
     "metadata": {},
     "output_type": "display_data"
    }
   ],
   "source": [
    "# input\n",
    "for i in range(9):\n",
    "    plt.subplot(3, 3, i+1)\n",
    "    plt.imshow(Xaug[i, 0], cmap='gray')\n",
    "    plt.axis('off')"
   ]
  },
  {
   "cell_type": "code",
   "execution_count": 12,
   "metadata": {
    "collapsed": false
   },
   "outputs": [
    {
     "data": {
      "image/png": "[encoded data removed]",
      "text/plain": [
       "<matplotlib.figure.Figure at 0x7f69cea7e090>"
      ]
     },
     "metadata": {},
     "output_type": "display_data"
    }
   ],
   "source": [
    "# output\n",
    "for i in range(9):\n",
    "    plt.subplot(3, 3, i+1)\n",
    "    plt.imshow(Xresult[i, 0], cmap='gray')\n",
    "    plt.axis('off')"
   ]
  },
  {
   "cell_type": "code",
   "execution_count": null,
   "metadata": {
    "collapsed": true
   },
   "outputs": [],
   "source": []
  }
 ],
 "metadata": {
  "kernelspec": {
   "display_name": "Python 2",
   "language": "python",
   "name": "python2"
  },
  "language_info": {
   "codemirror_mode": {
    "name": "ipython",
    "version": 2
   },
   "file_extension": ".py",
   "mimetype": "text/x-python",
   "name": "python",
   "nbconvert_exporter": "python",
   "pygments_lexer": "ipython2",
   "version": "2.7.12"
  }
 },
 "nbformat": 4,
 "nbformat_minor": 0
}
